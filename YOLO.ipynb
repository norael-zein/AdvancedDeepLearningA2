{
 "cells": [
  {
   "cell_type": "code",
   "id": "initial_id",
   "metadata": {
    "collapsed": true,
    "ExecuteTime": {
     "end_time": "2025-05-07T09:03:11.112692Z",
     "start_time": "2025-05-07T09:03:10.074786Z"
    }
   },
   "source": [
    "import os\n",
    "import torch"
   ],
   "outputs": [],
   "execution_count": 1
  },
  {
   "metadata": {
    "ExecuteTime": {
     "end_time": "2025-05-07T11:03:34.314859Z",
     "start_time": "2025-05-07T11:03:33.349685Z"
    }
   },
   "cell_type": "code",
   "source": "!pip install ultralytics",
   "id": "357d119710995961",
   "outputs": [
    {
     "name": "stdout",
     "output_type": "stream",
     "text": [
      "Requirement already satisfied: ultralytics in /Users/petter/Projects/RL/venv/lib/python3.9/site-packages (8.3.128)\r\n",
      "Requirement already satisfied: numpy>=1.23.0 in /Users/petter/Projects/RL/venv/lib/python3.9/site-packages (from ultralytics) (1.26.4)\r\n",
      "Requirement already satisfied: matplotlib>=3.3.0 in /Users/petter/Projects/RL/venv/lib/python3.9/site-packages (from ultralytics) (3.9.4)\r\n",
      "Requirement already satisfied: opencv-python>=4.6.0 in /Users/petter/Projects/RL/venv/lib/python3.9/site-packages (from ultralytics) (4.11.0.86)\r\n",
      "Requirement already satisfied: pillow>=7.1.2 in /Users/petter/Projects/RL/venv/lib/python3.9/site-packages (from ultralytics) (10.4.0)\r\n",
      "Requirement already satisfied: pyyaml>=5.3.1 in /Users/petter/Projects/RL/venv/lib/python3.9/site-packages (from ultralytics) (6.0.2)\r\n",
      "Requirement already satisfied: requests>=2.23.0 in /Users/petter/Projects/RL/venv/lib/python3.9/site-packages (from ultralytics) (2.32.3)\r\n",
      "Requirement already satisfied: scipy>=1.4.1 in /Users/petter/Projects/RL/venv/lib/python3.9/site-packages (from ultralytics) (1.13.1)\r\n",
      "Requirement already satisfied: torch>=1.8.0 in /Users/petter/Projects/RL/venv/lib/python3.9/site-packages (from ultralytics) (2.7.0)\r\n",
      "Requirement already satisfied: torchvision>=0.9.0 in /Users/petter/Projects/RL/venv/lib/python3.9/site-packages (from ultralytics) (0.22.0)\r\n",
      "Requirement already satisfied: tqdm>=4.64.0 in /Users/petter/Projects/RL/venv/lib/python3.9/site-packages (from ultralytics) (4.67.1)\r\n",
      "Requirement already satisfied: psutil in /Users/petter/Projects/RL/venv/lib/python3.9/site-packages (from ultralytics) (7.0.0)\r\n",
      "Requirement already satisfied: py-cpuinfo in /Users/petter/Projects/RL/venv/lib/python3.9/site-packages (from ultralytics) (9.0.0)\r\n",
      "Requirement already satisfied: pandas>=1.1.4 in /Users/petter/Projects/RL/venv/lib/python3.9/site-packages (from ultralytics) (2.2.3)\r\n",
      "Requirement already satisfied: seaborn>=0.11.0 in /Users/petter/Projects/RL/venv/lib/python3.9/site-packages (from ultralytics) (0.13.2)\r\n",
      "Requirement already satisfied: ultralytics-thop>=2.0.0 in /Users/petter/Projects/RL/venv/lib/python3.9/site-packages (from ultralytics) (2.0.14)\r\n",
      "Requirement already satisfied: contourpy>=1.0.1 in /Users/petter/Projects/RL/venv/lib/python3.9/site-packages (from matplotlib>=3.3.0->ultralytics) (1.3.0)\r\n",
      "Requirement already satisfied: cycler>=0.10 in /Users/petter/Projects/RL/venv/lib/python3.9/site-packages (from matplotlib>=3.3.0->ultralytics) (0.12.1)\r\n",
      "Requirement already satisfied: fonttools>=4.22.0 in /Users/petter/Projects/RL/venv/lib/python3.9/site-packages (from matplotlib>=3.3.0->ultralytics) (4.56.0)\r\n",
      "Requirement already satisfied: kiwisolver>=1.3.1 in /Users/petter/Projects/RL/venv/lib/python3.9/site-packages (from matplotlib>=3.3.0->ultralytics) (1.4.7)\r\n",
      "Requirement already satisfied: packaging>=20.0 in /Users/petter/Projects/RL/venv/lib/python3.9/site-packages (from matplotlib>=3.3.0->ultralytics) (24.2)\r\n",
      "Requirement already satisfied: pyparsing>=2.3.1 in /Users/petter/Projects/RL/venv/lib/python3.9/site-packages (from matplotlib>=3.3.0->ultralytics) (3.2.2)\r\n",
      "Requirement already satisfied: python-dateutil>=2.7 in /Users/petter/Projects/RL/venv/lib/python3.9/site-packages (from matplotlib>=3.3.0->ultralytics) (2.9.0.post0)\r\n",
      "Requirement already satisfied: importlib-resources>=3.2.0 in /Users/petter/Projects/RL/venv/lib/python3.9/site-packages (from matplotlib>=3.3.0->ultralytics) (6.5.2)\r\n",
      "Requirement already satisfied: pytz>=2020.1 in /Users/petter/Projects/RL/venv/lib/python3.9/site-packages (from pandas>=1.1.4->ultralytics) (2025.2)\r\n",
      "Requirement already satisfied: tzdata>=2022.7 in /Users/petter/Projects/RL/venv/lib/python3.9/site-packages (from pandas>=1.1.4->ultralytics) (2025.2)\r\n",
      "Requirement already satisfied: charset-normalizer<4,>=2 in /Users/petter/Projects/RL/venv/lib/python3.9/site-packages (from requests>=2.23.0->ultralytics) (3.4.1)\r\n",
      "Requirement already satisfied: idna<4,>=2.5 in /Users/petter/Projects/RL/venv/lib/python3.9/site-packages (from requests>=2.23.0->ultralytics) (3.10)\r\n",
      "Requirement already satisfied: urllib3<3,>=1.21.1 in /Users/petter/Projects/RL/venv/lib/python3.9/site-packages (from requests>=2.23.0->ultralytics) (2.3.0)\r\n",
      "Requirement already satisfied: certifi>=2017.4.17 in /Users/petter/Projects/RL/venv/lib/python3.9/site-packages (from requests>=2.23.0->ultralytics) (2025.1.31)\r\n",
      "Requirement already satisfied: filelock in /Users/petter/Projects/RL/venv/lib/python3.9/site-packages (from torch>=1.8.0->ultralytics) (3.18.0)\r\n",
      "Requirement already satisfied: typing-extensions>=4.10.0 in /Users/petter/Projects/RL/venv/lib/python3.9/site-packages (from torch>=1.8.0->ultralytics) (4.12.2)\r\n",
      "Requirement already satisfied: sympy>=1.13.3 in /Users/petter/Projects/RL/venv/lib/python3.9/site-packages (from torch>=1.8.0->ultralytics) (1.14.0)\r\n",
      "Requirement already satisfied: networkx in /Users/petter/Projects/RL/venv/lib/python3.9/site-packages (from torch>=1.8.0->ultralytics) (3.2.1)\r\n",
      "Requirement already satisfied: jinja2 in /Users/petter/Projects/RL/venv/lib/python3.9/site-packages (from torch>=1.8.0->ultralytics) (3.1.6)\r\n",
      "Requirement already satisfied: fsspec in /Users/petter/Projects/RL/venv/lib/python3.9/site-packages (from torch>=1.8.0->ultralytics) (2025.3.0)\r\n",
      "Requirement already satisfied: zipp>=3.1.0 in /Users/petter/Projects/RL/venv/lib/python3.9/site-packages (from importlib-resources>=3.2.0->matplotlib>=3.3.0->ultralytics) (3.21.0)\r\n",
      "Requirement already satisfied: six>=1.5 in /Users/petter/Projects/RL/venv/lib/python3.9/site-packages (from python-dateutil>=2.7->matplotlib>=3.3.0->ultralytics) (1.17.0)\r\n",
      "Requirement already satisfied: mpmath<1.4,>=1.1.0 in /Users/petter/Projects/RL/venv/lib/python3.9/site-packages (from sympy>=1.13.3->torch>=1.8.0->ultralytics) (1.3.0)\r\n",
      "Requirement already satisfied: MarkupSafe>=2.0 in /Users/petter/Projects/RL/venv/lib/python3.9/site-packages (from jinja2->torch>=1.8.0->ultralytics) (3.0.2)\r\n",
      "\r\n",
      "\u001B[1m[\u001B[0m\u001B[34;49mnotice\u001B[0m\u001B[1;39;49m]\u001B[0m\u001B[39;49m A new release of pip is available: \u001B[0m\u001B[31;49m25.0\u001B[0m\u001B[39;49m -> \u001B[0m\u001B[32;49m25.1\u001B[0m\r\n",
      "\u001B[1m[\u001B[0m\u001B[34;49mnotice\u001B[0m\u001B[1;39;49m]\u001B[0m\u001B[39;49m To update, run: \u001B[0m\u001B[32;49mpip install --upgrade pip\u001B[0m\r\n"
     ]
    }
   ],
   "execution_count": 15
  },
  {
   "metadata": {
    "ExecuteTime": {
     "end_time": "2025-05-07T11:03:36.125103Z",
     "start_time": "2025-05-07T11:03:36.122400Z"
    }
   },
   "cell_type": "code",
   "source": [
    "from ultralytics import YOLO\n",
    "import os "
   ],
   "id": "f43a5bc29c9422ef",
   "outputs": [],
   "execution_count": 16
  },
  {
   "metadata": {
    "ExecuteTime": {
     "end_time": "2025-05-07T11:03:37.761230Z",
     "start_time": "2025-05-07T11:03:37.600654Z"
    }
   },
   "cell_type": "code",
   "source": "model = YOLO('yolov9c.pt')",
   "id": "190d906d23db6645",
   "outputs": [],
   "execution_count": 17
  },
  {
   "metadata": {
    "ExecuteTime": {
     "end_time": "2025-05-07T11:32:53.452309Z",
     "start_time": "2025-05-07T11:32:47.619267Z"
    }
   },
   "cell_type": "code",
   "source": [
    "!wget https://public.roboflow.com/ds/89bMf0Ruel?key=WEabhz8zPf -O dataset.zip\n",
    "!unzip dataset.zip -d dataset"
   ],
   "id": "48a8aa54b9276d6a",
   "outputs": [
    {
     "name": "stdout",
     "output_type": "stream",
     "text": [
      "zsh:1: no matches found: https://public.roboflow.com/ds/89bMf0Ruel?key=WEabhz8zPf\r\n",
      "Archive:  dataset.zip\r\n",
      "replace dataset/README.dataset.txt? [y]es, [n]o, [A]ll, [N]one, [r]ename: ^C\r\n"
     ]
    }
   ],
   "execution_count": 23
  },
  {
   "metadata": {
    "ExecuteTime": {
     "end_time": "2025-05-07T11:11:01.447389Z",
     "start_time": "2025-05-07T11:03:39.066878Z"
    }
   },
   "cell_type": "code",
   "source": [
    "\n",
    "results=model.train(data='./dataset/data.yaml', epochs=2, imgsz='320', batch=10)"
   ],
   "id": "f49fb6b5c3cbe7cb",
   "outputs": [
    {
     "name": "stdout",
     "output_type": "stream",
     "text": [
      "Ultralytics 8.3.128 🚀 Python-3.9.1 torch-2.7.0 CPU (Apple M1)\n",
      "\u001B[34m\u001B[1mengine/trainer: \u001B[0magnostic_nms=False, amp=True, augment=False, auto_augment=randaugment, batch=10, bgr=0.0, box=7.5, cache=False, cfg=None, classes=None, close_mosaic=10, cls=0.5, conf=None, copy_paste=0.0, copy_paste_mode=flip, cos_lr=False, cutmix=0.0, data=./dataset/data.yaml, degrees=0.0, deterministic=True, device=cpu, dfl=1.5, dnn=False, dropout=0.0, dynamic=False, embed=None, epochs=2, erasing=0.4, exist_ok=False, fliplr=0.5, flipud=0.0, format=torchscript, fraction=1.0, freeze=None, half=False, hsv_h=0.015, hsv_s=0.7, hsv_v=0.4, imgsz=320, int8=False, iou=0.7, keras=False, kobj=1.0, line_width=None, lr0=0.01, lrf=0.01, mask_ratio=4, max_det=300, mixup=0.0, mode=train, model=yolov9c.pt, momentum=0.937, mosaic=1.0, multi_scale=False, name=train10, nbs=64, nms=False, opset=None, optimize=False, optimizer=auto, overlap_mask=True, patience=100, perspective=0.0, plots=True, pose=12.0, pretrained=True, profile=False, project=None, rect=False, resume=False, retina_masks=False, save=True, save_conf=False, save_crop=False, save_dir=runs/detect/train10, save_frames=False, save_json=False, save_period=-1, save_txt=False, scale=0.5, seed=0, shear=0.0, show=False, show_boxes=True, show_conf=True, show_labels=True, simplify=True, single_cls=False, source=None, split=val, stream_buffer=False, task=detect, time=None, tracker=botsort.yaml, translate=0.1, val=True, verbose=True, vid_stride=1, visualize=False, warmup_bias_lr=0.1, warmup_epochs=3.0, warmup_momentum=0.8, weight_decay=0.0005, workers=8, workspace=None\n",
      "Overriding model.yaml nc=80 with nc=7\n",
      "\n",
      "                   from  n    params  module                                       arguments                     \n",
      "  0                  -1  1      1856  ultralytics.nn.modules.conv.Conv             [3, 64, 3, 2]                 \n",
      "  1                  -1  1     73984  ultralytics.nn.modules.conv.Conv             [64, 128, 3, 2]               \n",
      "  2                  -1  1    212864  ultralytics.nn.modules.block.RepNCSPELAN4    [128, 256, 128, 64, 1]        \n",
      "  3                  -1  1    164352  ultralytics.nn.modules.block.ADown           [256, 256]                    \n",
      "  4                  -1  1    847616  ultralytics.nn.modules.block.RepNCSPELAN4    [256, 512, 256, 128, 1]       \n",
      "  5                  -1  1    656384  ultralytics.nn.modules.block.ADown           [512, 512]                    \n",
      "  6                  -1  1   2857472  ultralytics.nn.modules.block.RepNCSPELAN4    [512, 512, 512, 256, 1]       \n",
      "  7                  -1  1    656384  ultralytics.nn.modules.block.ADown           [512, 512]                    \n",
      "  8                  -1  1   2857472  ultralytics.nn.modules.block.RepNCSPELAN4    [512, 512, 512, 256, 1]       \n",
      "  9                  -1  1    656896  ultralytics.nn.modules.block.SPPELAN         [512, 512, 256]               \n",
      " 10                  -1  1         0  torch.nn.modules.upsampling.Upsample         [None, 2, 'nearest']          \n",
      " 11             [-1, 6]  1         0  ultralytics.nn.modules.conv.Concat           [1]                           \n",
      " 12                  -1  1   3119616  ultralytics.nn.modules.block.RepNCSPELAN4    [1024, 512, 512, 256, 1]      \n",
      " 13                  -1  1         0  torch.nn.modules.upsampling.Upsample         [None, 2, 'nearest']          \n",
      " 14             [-1, 4]  1         0  ultralytics.nn.modules.conv.Concat           [1]                           \n",
      " 15                  -1  1    912640  ultralytics.nn.modules.block.RepNCSPELAN4    [1024, 256, 256, 128, 1]      \n",
      " 16                  -1  1    164352  ultralytics.nn.modules.block.ADown           [256, 256]                    \n",
      " 17            [-1, 12]  1         0  ultralytics.nn.modules.conv.Concat           [1]                           \n",
      " 18                  -1  1   2988544  ultralytics.nn.modules.block.RepNCSPELAN4    [768, 512, 512, 256, 1]       \n",
      " 19                  -1  1    656384  ultralytics.nn.modules.block.ADown           [512, 512]                    \n",
      " 20             [-1, 9]  1         0  ultralytics.nn.modules.conv.Concat           [1]                           \n",
      " 21                  -1  1   3119616  ultralytics.nn.modules.block.RepNCSPELAN4    [1024, 512, 512, 256, 1]      \n",
      " 22        [15, 18, 21]  1   5588197  ultralytics.nn.modules.head.Detect           [7, [256, 512, 512]]          \n",
      "YOLOv9c summary: 358 layers, 25,534,629 parameters, 25,534,613 gradients, 103.7 GFLOPs\n",
      "\n",
      "Transferred 931/937 items from pretrained weights\n",
      "Freezing layer 'model.22.dfl.conv.weight'\n",
      "\u001B[34m\u001B[1mtrain: \u001B[0mFast image access ✅ (ping: 0.0±0.0 ms, read: 200.7±80.6 MB/s, size: 75.9 KB)\n"
     ]
    },
    {
     "name": "stderr",
     "output_type": "stream",
     "text": [
      "\u001B[34m\u001B[1mtrain: \u001B[0mScanning /Users/petter/Projects/ADL4IP/GA/dataset/train/labels.cache... 448 images, 1 backgrounds, 0 corrupt: 100%|██████████| 448/448 [00:00<?, ?it/s]"
     ]
    },
    {
     "name": "stdout",
     "output_type": "stream",
     "text": [
      "\u001B[34m\u001B[1mval: \u001B[0mFast image access ✅ (ping: 0.0±0.0 ms, read: 276.7±100.9 MB/s, size: 97.4 KB)\n"
     ]
    },
    {
     "name": "stderr",
     "output_type": "stream",
     "text": [
      "\n",
      "\u001B[34m\u001B[1mval: \u001B[0mScanning /Users/petter/Projects/ADL4IP/GA/dataset/valid/labels.cache... 127 images, 0 backgrounds, 0 corrupt: 100%|██████████| 127/127 [00:00<?, ?it/s]"
     ]
    },
    {
     "name": "stdout",
     "output_type": "stream",
     "text": [
      "Plotting labels to runs/detect/train10/labels.jpg... \n"
     ]
    },
    {
     "name": "stderr",
     "output_type": "stream",
     "text": [
      "\n"
     ]
    },
    {
     "name": "stdout",
     "output_type": "stream",
     "text": [
      "\u001B[34m\u001B[1moptimizer:\u001B[0m 'optimizer=auto' found, ignoring 'lr0=0.01' and 'momentum=0.937' and determining best 'optimizer', 'lr0' and 'momentum' automatically... \n",
      "\u001B[34m\u001B[1moptimizer:\u001B[0m AdamW(lr=0.000909, momentum=0.9) with parameter groups 154 weight(decay=0.0), 161 weight(decay=0.00046875), 160 bias(decay=0.0)\n",
      "Image sizes 320 train, 320 val\n",
      "Using 0 dataloader workers\n",
      "Logging results to \u001B[1mruns/detect/train10\u001B[0m\n",
      "Starting training for 2 epochs...\n",
      "\n",
      "      Epoch    GPU_mem   box_loss   cls_loss   dfl_loss  Instances       Size\n"
     ]
    },
    {
     "name": "stderr",
     "output_type": "stream",
     "text": [
      "        1/2         0G      1.548      2.509      1.215         90        320: 100%|██████████| 45/45 [02:49<00:00,  3.77s/it]\n",
      "                 Class     Images  Instances      Box(P          R      mAP50  mAP50-95): 100%|██████████| 7/7 [00:31<00:00,  4.45s/it]"
     ]
    },
    {
     "name": "stdout",
     "output_type": "stream",
     "text": [
      "                   all        127        909      0.337      0.406      0.273      0.155\n"
     ]
    },
    {
     "name": "stderr",
     "output_type": "stream",
     "text": [
      "\n"
     ]
    },
    {
     "name": "stdout",
     "output_type": "stream",
     "text": [
      "\n",
      "      Epoch    GPU_mem   box_loss   cls_loss   dfl_loss  Instances       Size\n"
     ]
    },
    {
     "name": "stderr",
     "output_type": "stream",
     "text": [
      "        2/2         0G       1.53      1.669      1.212         86        320: 100%|██████████| 45/45 [02:51<00:00,  3.80s/it]\n",
      "                 Class     Images  Instances      Box(P          R      mAP50  mAP50-95): 100%|██████████| 7/7 [00:32<00:00,  4.58s/it]"
     ]
    },
    {
     "name": "stdout",
     "output_type": "stream",
     "text": [
      "                   all        127        909       0.37      0.539      0.487      0.274\n"
     ]
    },
    {
     "name": "stderr",
     "output_type": "stream",
     "text": [
      "\n"
     ]
    },
    {
     "name": "stdout",
     "output_type": "stream",
     "text": [
      "\n",
      "2 epochs completed in 0.113 hours.\n",
      "Optimizer stripped from runs/detect/train10/weights/last.pt, 51.5MB\n",
      "Optimizer stripped from runs/detect/train10/weights/best.pt, 51.5MB\n",
      "\n",
      "Validating runs/detect/train10/weights/best.pt...\n",
      "Ultralytics 8.3.128 🚀 Python-3.9.1 torch-2.7.0 CPU (Apple M1)\n",
      "YOLOv9c summary (fused): 156 layers, 25,324,645 parameters, 0 gradients, 102.3 GFLOPs\n"
     ]
    },
    {
     "name": "stderr",
     "output_type": "stream",
     "text": [
      "                 Class     Images  Instances      Box(P          R      mAP50  mAP50-95): 100%|██████████| 7/7 [00:30<00:00,  4.38s/it]\n"
     ]
    },
    {
     "name": "stdout",
     "output_type": "stream",
     "text": [
      "                   all        127        909      0.378      0.535      0.487      0.273\n",
      "                  fish         63        459      0.337      0.662      0.492      0.235\n",
      "             jellyfish          9        155      0.868      0.381      0.702      0.396\n",
      "               penguin         17        104      0.347      0.635      0.424      0.188\n",
      "                puffin         15         74      0.485     0.0946      0.151     0.0722\n",
      "                 shark         28         57      0.281      0.561      0.427      0.219\n",
      "              starfish         17         27     0.0941      0.593      0.559       0.39\n",
      "              stingray         23         33      0.233      0.818      0.652      0.412\n",
      "Speed: 0.2ms preprocess, 228.2ms inference, 0.0ms loss, 2.4ms postprocess per image\n",
      "Results saved to \u001B[1mruns/detect/train10\u001B[0m\n"
     ]
    }
   ],
   "execution_count": 18
  },
  {
   "metadata": {
    "ExecuteTime": {
     "end_time": "2025-05-07T11:11:24.752212Z",
     "start_time": "2025-05-07T11:11:08.685664Z"
    }
   },
   "cell_type": "code",
   "source": [
    "#\n",
    "metrics = model.val()"
   ],
   "id": "8c6648f1906ec74f",
   "outputs": [
    {
     "name": "stdout",
     "output_type": "stream",
     "text": [
      "Ultralytics 8.3.128 🚀 Python-3.9.1 torch-2.7.0 CPU (Apple M1)\n",
      "YOLOv9c summary (fused): 156 layers, 25,324,645 parameters, 0 gradients, 102.3 GFLOPs\n",
      "\u001B[34m\u001B[1mval: \u001B[0mFast image access ✅ (ping: 0.0±0.0 ms, read: 259.2±117.3 MB/s, size: 106.3 KB)\n"
     ]
    },
    {
     "name": "stderr",
     "output_type": "stream",
     "text": [
      "\u001B[34m\u001B[1mval: \u001B[0mScanning /Users/petter/Projects/ADL4IP/GA/dataset/valid/labels.cache... 127 images, 0 backgrounds, 0 corrupt: 100%|██████████| 127/127 [00:00<?, ?it/s]\n",
      "                 Class     Images  Instances      Box(P          R      mAP50  mAP50-95): 100%|██████████| 13/13 [00:13<00:00,  1.05s/it]\n"
     ]
    },
    {
     "name": "stdout",
     "output_type": "stream",
     "text": [
      "                   all        127        909      0.384       0.54      0.494      0.276\n",
      "                  fish         63        459      0.345      0.662        0.5      0.241\n",
      "             jellyfish          9        155      0.894       0.38      0.738      0.418\n",
      "               penguin         17        104      0.347      0.635      0.424      0.188\n",
      "                puffin         15         74      0.488     0.0946      0.151     0.0721\n",
      "                 shark         28         57      0.282      0.561      0.431      0.221\n",
      "              starfish         17         27     0.0974       0.63      0.562      0.391\n",
      "              stingray         23         33      0.231      0.818      0.654      0.402\n",
      "Speed: 0.1ms preprocess, 94.1ms inference, 0.0ms loss, 3.1ms postprocess per image\n",
      "Results saved to \u001B[1mruns/detect/train102\u001B[0m\n"
     ]
    }
   ],
   "execution_count": 19
  },
  {
   "metadata": {
    "ExecuteTime": {
     "end_time": "2025-05-07T11:11:50.765801Z",
     "start_time": "2025-05-07T11:11:50.171796Z"
    }
   },
   "cell_type": "code",
   "source": [
    "#from models import yolo\n",
    "ir = model(\"./dataset/test/images/IMG_2371_jpeg_jpg.rf.54505f60b6706da151c164188c305849.jpg\")\n",
    "ir[0].show()"
   ],
   "id": "2572fbadd4752b15",
   "outputs": [
    {
     "name": "stdout",
     "output_type": "stream",
     "text": [
      "\n",
      "image 1/1 /Users/petter/Projects/ADL4IP/GA/dataset/test/images/IMG_2371_jpeg_jpg.rf.54505f60b6706da151c164188c305849.jpg: 320x256 2 fishs, 2 stingrays, 114.9ms\n",
      "Speed: 1.1ms preprocess, 114.9ms inference, 2.1ms postprocess per image at shape (1, 3, 320, 256)\n"
     ]
    }
   ],
   "execution_count": 22
  },
  {
   "metadata": {
    "ExecuteTime": {
     "end_time": "2025-05-07T08:42:15.606820Z",
     "start_time": "2025-05-07T08:42:12.199053Z"
    }
   },
   "cell_type": "code",
   "source": [
    "!python train.py --epochs 100 --workers 4 --device cpu --batch-size 32 \\\n",
    "--data data/fish.yaml --img 640 640 --cfg cfg/training/yolov7_fish-tiny.yaml \\\n",
    "--weights 'yolov7-tiny.pt' --name yolov7_tiny_fish_fixed_res --hyp data/hyp.scratch.tiny.yaml"
   ],
   "id": "c67e6b09ea07fc5",
   "outputs": [
    {
     "name": "stdout",
     "output_type": "stream",
     "text": [
      "YOLOR 🚀 v0.1-128-ga207844 torch 2.7.0 CPU\r\n",
      "\r\n",
      "Namespace(weights='yolov7-tiny.pt', cfg='cfg/training/yolov7_fish-tiny.yaml', data='data/fish.yaml', hyp='data/hyp.scratch.tiny.yaml', epochs=100, batch_size=32, img_size=[640, 640], rect=False, resume=False, nosave=False, notest=False, noautoanchor=False, evolve=False, bucket='', cache_images=False, image_weights=False, device='cpu', multi_scale=False, single_cls=False, adam=False, sync_bn=False, local_rank=-1, workers=4, project='runs/train', entity=None, name='yolov7_tiny_fish_fixed_res', exist_ok=False, quad=False, linear_lr=False, label_smoothing=0.0, upload_dataset=False, bbox_interval=-1, save_period=-1, artifact_alias='latest', freeze=[0], v5_metric=False, world_size=1, global_rank=-1, save_dir='runs/train/yolov7_tiny_fish_fixed_res6', total_batch_size=32)\r\n",
      "\u001B[34m\u001B[1mtensorboard: \u001B[0mStart with 'tensorboard --logdir runs/train', view at http://localhost:6006/\r\n",
      "\u001B[34m\u001B[1mhyperparameters: \u001B[0mlr0=0.01, lrf=0.01, momentum=0.937, weight_decay=0.0005, warmup_epochs=3.0, warmup_momentum=0.8, warmup_bias_lr=0.1, box=0.05, cls=0.5, cls_pw=1.0, obj=1.0, obj_pw=1.0, iou_t=0.2, anchor_t=4.0, fl_gamma=0.0, hsv_h=0.015, hsv_s=0.7, hsv_v=0.4, degrees=0.0, translate=0.1, scale=0.5, shear=0.0, perspective=0.0, flipud=0.0, fliplr=0.5, mosaic=1.0, mixup=0.05, copy_paste=0.0, paste_in=0.05, loss_ota=1\r\n",
      "Traceback (most recent call last):\r\n",
      "  File \"/Users/petter/Projects/ADL4IP/GA/yolov7/train.py\", line 616, in <module>\r\n",
      "    train(hyp, opt, device, tb_writer)\r\n",
      "  File \"/Users/petter/Projects/ADL4IP/GA/yolov7/train.py\", line 71, in train\r\n",
      "    run_id = torch.load(weights, map_location=device).get('wandb_id') if weights.endswith('.pt') and os.path.isfile(weights) else None\r\n",
      "  File \"/Users/petter/Projects/RL/venv/lib/python3.9/site-packages/torch/serialization.py\", line 1524, in load\r\n",
      "    raise pickle.UnpicklingError(_get_wo_message(str(e))) from None\r\n",
      "_pickle.UnpicklingError: Weights only load failed. This file can still be loaded, to do so you have two options, \u001B[1mdo those steps only if you trust the source of the checkpoint\u001B[0m. \r\n",
      "\t(1) In PyTorch 2.6, we changed the default value of the `weights_only` argument in `torch.load` from `False` to `True`. Re-running `torch.load` with `weights_only` set to `False` will likely succeed, but it can result in arbitrary code execution. Do it only if you got the file from a trusted source.\r\n",
      "\t(2) Alternatively, to load with `weights_only=True` please check the recommended steps in the following error message.\r\n",
      "\tWeightsUnpickler error: Unsupported global: GLOBAL models.yolo.Model was not an allowed global by default. Please use `torch.serialization.add_safe_globals([models.yolo.Model])` or the `torch.serialization.safe_globals([models.yolo.Model])` context manager to allowlist this global if you trust this class/function.\r\n",
      "\r\n",
      "Check the documentation of torch.load to learn more about types accepted by default with weights_only https://pytorch.org/docs/stable/generated/torch.load.html.\r\n"
     ]
    }
   ],
   "execution_count": 19
  }
 ],
 "metadata": {
  "kernelspec": {
   "display_name": "Python 3",
   "language": "python",
   "name": "python3"
  },
  "language_info": {
   "codemirror_mode": {
    "name": "ipython",
    "version": 2
   },
   "file_extension": ".py",
   "mimetype": "text/x-python",
   "name": "python",
   "nbconvert_exporter": "python",
   "pygments_lexer": "ipython2",
   "version": "2.7.6"
  }
 },
 "nbformat": 4,
 "nbformat_minor": 5
}
